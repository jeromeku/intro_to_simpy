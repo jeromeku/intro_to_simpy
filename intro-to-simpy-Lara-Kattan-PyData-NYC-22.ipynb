{
 "cells": [
  {
   "cell_type": "markdown",
   "id": "contained-first",
   "metadata": {},
   "source": [
    "# Introduction to SimPy\n",
    "# PyData NYC 2022: Lara Kattan\n",
    "\n",
    "Recall that each simulation is made up of three type of objects: \n",
    "\n",
    "1. **Entity:** the thing passing through the simulation (e.g. customer, widget, car)\n",
    "* Has attributes, including preferences and priority\n",
    "* Entities track their journey in the simulation, incl time waiting for a resource and processing time at a resource\n",
    "2. **Resource:** entity requests service from a resource\n",
    "* Capacity: number of entities that can receive service simultaneously before a queue forms\n",
    "* Entities can visit multiple resources in their time in a simulation\n",
    "3. **Source:** Defines entities based on a template (attributes, including priority)\n",
    "* Feeds entities into simulation\n",
    "* Defines interarrival time (time between entities entering the simulation)\n",
    "* Interarrival can be fixed or drawn from a simulation"
   ]
  },
  {
   "cell_type": "code",
   "execution_count": 1,
   "id": "handed-contrary",
   "metadata": {},
   "outputs": [],
   "source": [
    "# The first time you use simpy and simpy_helpers, you'll need to download them\n",
    "# you can either download through pip in the command line / terminal, or you can\n",
    "# uncomment the below lines and run from jupyter directly\n",
    "\n",
    "# !pip install simpy\n",
    "# !pip install simpy_helpers"
   ]
  },
  {
   "cell_type": "code",
   "execution_count": 2,
   "id": "announced-knight",
   "metadata": {},
   "outputs": [],
   "source": [
    "#################\n",
    "##   imports   ##\n",
    "#################\n",
    "\n",
    "import simpy\n",
    "from simpy_helpers import Entity, Resource, Source, Stats\n",
    "import numpy as np # numpy will be used for randomness and distribution methods\n",
    "import matplotlib.pyplot as plt\n",
    "import seaborn as sns"
   ]
  },
  {
   "cell_type": "markdown",
   "id": "stock-balloon",
   "metadata": {},
   "source": [
    "### 0) Specify the constants for the simulation"
   ]
  },
  {
   "cell_type": "code",
   "execution_count": 3,
   "id": "professional-twist",
   "metadata": {},
   "outputs": [],
   "source": [
    "NUM_ENTITIES = 200\n",
    "MEAN_TIME_BETWEEN_ARRIVALS = 50\n",
    "MEAN_SERVICE_TIME = 30"
   ]
  },
  {
   "cell_type": "markdown",
   "id": "compressed-composite",
   "metadata": {},
   "source": [
    "### Note: We're using `simpy_helpers` to make collecting statistics easier. The Entity, Resource and Source classes we're inheriting from below are from simpy_helpers."
   ]
  },
  {
   "cell_type": "markdown",
   "id": "proud-profit",
   "metadata": {},
   "source": [
    "### 1) Define the entity class\n",
    "\n",
    "This class controls how an entity proceeds through a simulation. That is, what resources it visits and how much time it spends at each resource. \n",
    "\n",
    "You must defined a `process()` method (again, based on `simpy_helpers`)."
   ]
  },
  {
   "cell_type": "code",
   "execution_count": 4,
   "id": "challenging-genome",
   "metadata": {},
   "outputs": [],
   "source": [
    "# how an entity proceeds through the simulation\n",
    "class processEntity(Entity):\n",
    "    \n",
    "    def process(self):\n",
    "        # first, wait for space to open up at a resource\n",
    "        yield self.wait_for_resource(my_resource)\n",
    "        # then, process at the resource\n",
    "        # we'll define the resource in the next step\n",
    "        yield self.process_at_resource(my_resource)\n",
    "\n",
    "        # leave the resource and open up a spot for the next entity\n",
    "        self.release_resource(my_resource)\n",
    "        \n",
    "        # once process ends, the entity leaves the simulation"
   ]
  },
  {
   "cell_type": "markdown",
   "id": "resident-meeting",
   "metadata": {},
   "source": [
    "### 2) Define the resource class\n",
    "\n",
    "We have to define a `service_time` method that tells us how long each entity spends at a resource."
   ]
  },
  {
   "cell_type": "code",
   "execution_count": 5,
   "id": "confused-deployment",
   "metadata": {},
   "outputs": [],
   "source": [
    "class myResource(Resource):\n",
    "    def service_time(self, entity):\n",
    "        # we could define this as a fixed or stochastic time\n",
    "        # when using stochastic, it's often modeled as a draw from an exponential distro\n",
    "        return np.random.exponential(MEAN_SERVICE_TIME)"
   ]
  },
  {
   "cell_type": "markdown",
   "id": "mechanical-simon",
   "metadata": {},
   "source": [
    "### 3) Define the source class\n",
    "\n",
    "We have to define an `interarrival_time` that tells us how long between entities arriving to the simulation. \n",
    "\n",
    "We also have to define a `build_entity` that creates the customers entering the simulation and sets their attributes. Priority defaults to 1. Lower numbers are higher priority."
   ]
  },
  {
   "cell_type": "code",
   "execution_count": 6,
   "id": "understanding-aberdeen",
   "metadata": {},
   "outputs": [],
   "source": [
    "class generateCustomers(Source):\n",
    "    \n",
    "    def interarrival_time(self):\n",
    "        # interarrival time: time between each entity arriving in the simulation\n",
    "        # also modeled as a draw from an exponential \n",
    "        return np.random.exponential(MEAN_TIME_BETWEEN_ARRIVALS)\n",
    "    \n",
    "    def build_entity(self):\n",
    "        # set the attributes of each entity entering the simulation \n",
    "        attributes = {}\n",
    "        attributes['customer'] = np.random.choice(['standard', 'priority'])\n",
    "        if attributes['customer'] == 'priority':\n",
    "            attributes['priority'] = 0 \n",
    "        \n",
    "        # remember we defined the processEntity class in step 1\n",
    "        return processEntity(env, attributes) "
   ]
  },
  {
   "cell_type": "markdown",
   "id": "reverse-course",
   "metadata": {},
   "source": [
    "### 4a) Run the simulation with random seed = 34"
   ]
  },
  {
   "cell_type": "code",
   "execution_count": 7,
   "id": "returning-harvey",
   "metadata": {},
   "outputs": [],
   "source": [
    "# setting a random seed will ensure that our pseudo-randomness is replicable \n",
    "np.random.seed(34) \n",
    "\n",
    "# the environment that will run the whole simulation\n",
    "env = simpy.Environment()\n",
    "\n",
    "# create a resource object and set its capacity \n",
    "# recall that myResource inherits from the Resource class from simpy_helpers\n",
    "# capacity is the number of entities that can receive service simultaneously before a queue forms\n",
    "# here we're modeling an M/M/1 queue \n",
    "my_resource = myResource(env, capacity=1) \n",
    "\n",
    "# specify the number of jobs \n",
    "my_source = generateCustomers(env, number=NUM_ENTITIES) \n",
    "\n",
    "# kick off the simulation with the source class that generates jobs/customers \n",
    "env.process(my_source.start(debug=False)) # Set debug to false to suppress lots of output\n",
    "\n",
    "#  Run the simulation! \n",
    "env.run() "
   ]
  },
  {
   "cell_type": "markdown",
   "id": "rotary-copyright",
   "metadata": {},
   "source": [
    "### 5a) Using `simpy_helpers` to get statistics on the simulation "
   ]
  },
  {
   "cell_type": "code",
   "execution_count": 8,
   "id": "julian-pizza",
   "metadata": {},
   "outputs": [
    {
     "data": {
      "text/plain": [
       "[30.063031988131016,\n",
       " 11.289000643955664,\n",
       " 16.90993520857311,\n",
       " 41.30188139207428,\n",
       " 42.683867286247164]"
      ]
     },
     "execution_count": 8,
     "metadata": {},
     "output_type": "execute_result"
    }
   ],
   "source": [
    "Stats.get_total_times()[:5]"
   ]
  },
  {
   "cell_type": "markdown",
   "id": "integral-heater",
   "metadata": {},
   "source": [
    "#### 5.1) Customer times"
   ]
  },
  {
   "cell_type": "code",
   "execution_count": 9,
   "id": "departmental-grammar",
   "metadata": {},
   "outputs": [
    {
     "name": "stdout",
     "output_type": "stream",
     "text": [
      "Customer average time in simulation = 98.295 \n",
      "Customer average time waiting = 66.973 \n",
      "Customer average time processing = 31.322 \n"
     ]
    }
   ],
   "source": [
    "print(f\"Customer average time in simulation = {np.mean(Stats.get_total_times()):0.5} \")\n",
    "print(f\"Customer average time waiting = {np.mean(Stats.get_waiting_times()):0.5} \")\n",
    "print(f\"Customer average time processing = {np.mean(Stats.get_processing_times()):0.5} \")"
   ]
  },
  {
   "cell_type": "markdown",
   "id": "statutory-original",
   "metadata": {},
   "source": [
    "#### 5.2) Resource times by standard/priority customer"
   ]
  },
  {
   "cell_type": "code",
   "execution_count": 10,
   "id": "occupied-genetics",
   "metadata": {},
   "outputs": [
    {
     "name": "stdout",
     "output_type": "stream",
     "text": [
      "Customer average time waiting (standard) = 85.4481 \n",
      "Customer average time waiting (priority) = 40.929 \n",
      "Resource average processing time = 31.322 \n"
     ]
    }
   ],
   "source": [
    "print(f\"Customer average time waiting (standard) = {np.mean(Stats.get_waiting_times(my_resource, attributes={'customer': 'standard'})):0.6} \")\n",
    "print(f\"Customer average time waiting (priority) = {np.mean(Stats.get_waiting_times(my_resource, attributes={'customer': 'priority'})):0.5} \")\n",
    "print(f\"Resource average processing time = {np.mean(Stats.get_processing_times(my_resource)):0.5} \")"
   ]
  },
  {
   "cell_type": "markdown",
   "id": "static-railway",
   "metadata": {},
   "source": [
    "### 6a) Plots of simulation stats"
   ]
  },
  {
   "cell_type": "code",
   "execution_count": 21,
   "id": "worth-ceiling",
   "metadata": {},
   "outputs": [
    {
     "data": {
      "image/png": "[encoded data removed]",
      "text/plain": [
       "<Figure size 432x288 with 1 Axes>"
      ]
     },
     "metadata": {
      "needs_background": "light"
     },
     "output_type": "display_data"
    }
   ],
   "source": [
    "system_times = Stats.get_total_times()\n",
    "\n",
    "sns.histplot(system_times,bins=7)\n",
    "plt.xlabel('Time in simulation');"
   ]
  },
  {
   "cell_type": "code",
   "execution_count": 22,
   "id": "grand-fireplace",
   "metadata": {},
   "outputs": [
    {
     "data": {
      "image/png": "[encoded data removed]",
      "text/plain": [
       "<Figure size 432x288 with 1 Axes>"
      ]
     },
     "metadata": {
      "needs_background": "light"
     },
     "output_type": "display_data"
    }
   ],
   "source": [
    "waiting_times = Stats.get_waiting_times()\n",
    "\n",
    "sns.histplot(waiting_times)\n",
    "plt.xlabel('Waiting time per entity');"
   ]
  },
  {
   "cell_type": "code",
   "execution_count": 23,
   "id": "intensive-collaboration",
   "metadata": {
    "scrolled": true
   },
   "outputs": [
    {
     "data": {
      "image/png": "[encoded data removed]",
      "text/plain": [
       "<Figure size 432x288 with 1 Axes>"
      ]
     },
     "metadata": {
      "needs_background": "light"
     },
     "output_type": "display_data"
    }
   ],
   "source": [
    "resource_queue = Stats.queue_size_over_time(my_resource)\n",
    "sns.lineplot(y=resource_queue,x=range(0,len(resource_queue)));"
   ]
  },
  {
   "cell_type": "markdown",
   "id": "fitted-outdoors",
   "metadata": {},
   "source": [
    "### 4b) Run the simulation with random seed 35"
   ]
  },
  {
   "cell_type": "code",
   "execution_count": 24,
   "id": "experimental-television",
   "metadata": {},
   "outputs": [],
   "source": [
    "# setting a random seed will ensure that our pseudo-randomness is replicable \n",
    "np.random.seed(35) \n",
    "\n",
    "# the environment that will run the whole simulation\n",
    "env = simpy.Environment()\n",
    "\n",
    "# create a resource object and set its capacity \n",
    "# note that myResource inherits from the Resource class from simpy_helpers\n",
    "# it's the Resource class that has capacity in its constructor\n",
    "my_resource = myResource(env, capacity=1) \n",
    "\n",
    "# \n",
    "my_source = generateCustomers(env, number=NUM_ENTITIES) \n",
    "\n",
    "\n",
    "env.process(my_source.start(debug=False)) # Set debug to false to suppress lots of output\n",
    "\n",
    "#  Run the simulation! \n",
    "env.run() "
   ]
  },
  {
   "cell_type": "markdown",
   "id": "thirty-status",
   "metadata": {},
   "source": [
    "### 5b) Using `simpy_helpers` to get statistics on the simulation "
   ]
  },
  {
   "cell_type": "code",
   "execution_count": 25,
   "id": "turned-devon",
   "metadata": {},
   "outputs": [
    {
     "data": {
      "text/plain": [
       "[9.748003134375345,\n",
       " 21.818367365750007,\n",
       " 34.3876001105356,\n",
       " 45.54295220372626,\n",
       " 7.2169319963512635]"
      ]
     },
     "execution_count": 25,
     "metadata": {},
     "output_type": "execute_result"
    }
   ],
   "source": [
    "Stats.get_total_times()[:5]"
   ]
  },
  {
   "cell_type": "markdown",
   "id": "honest-copyright",
   "metadata": {},
   "source": [
    "#### 5.1) Customer times"
   ]
  },
  {
   "cell_type": "code",
   "execution_count": 26,
   "id": "controversial-mandate",
   "metadata": {},
   "outputs": [
    {
     "name": "stdout",
     "output_type": "stream",
     "text": [
      "Customer average time in simulation = 68.647 \n",
      "Customer average time waiting = 38.216 \n",
      "Customer average time processing = 30.432 \n"
     ]
    }
   ],
   "source": [
    "print(f\"Customer average time in simulation = {np.mean(Stats.get_total_times()):0.5} \")\n",
    "print(f\"Customer average time waiting = {np.mean(Stats.get_waiting_times()):0.5} \")\n",
    "print(f\"Customer average time processing = {np.mean(Stats.get_processing_times()):0.5} \")"
   ]
  },
  {
   "cell_type": "markdown",
   "id": "awful-crown",
   "metadata": {},
   "source": [
    "#### 5.2) Resource times by standard/priority customer"
   ]
  },
  {
   "cell_type": "code",
   "execution_count": 27,
   "id": "complex-nicholas",
   "metadata": {},
   "outputs": [
    {
     "name": "stdout",
     "output_type": "stream",
     "text": [
      "Customer average time waiting (standard) = 54.1892 \n",
      "Customer average time waiting (priority) = 18.693 \n",
      "Resource average processing time = 30.432 \n"
     ]
    }
   ],
   "source": [
    "print(f\"Customer average time waiting (standard) = {np.mean(Stats.get_waiting_times(my_resource, attributes={'customer': 'standard'})):0.6} \")\n",
    "print(f\"Customer average time waiting (priority) = {np.mean(Stats.get_waiting_times(my_resource, attributes={'customer': 'priority'})):0.5} \")\n",
    "print(f\"Resource average processing time = {np.mean(Stats.get_processing_times(my_resource)):0.5} \")"
   ]
  },
  {
   "cell_type": "markdown",
   "id": "falling-negative",
   "metadata": {},
   "source": [
    "### 6b) Plots of simulation stats"
   ]
  },
  {
   "cell_type": "code",
   "execution_count": 28,
   "id": "positive-occasion",
   "metadata": {},
   "outputs": [
    {
     "data": {
      "image/png": "[encoded data removed]",
      "text/plain": [
       "<Figure size 432x288 with 1 Axes>"
      ]
     },
     "metadata": {
      "needs_background": "light"
     },
     "output_type": "display_data"
    }
   ],
   "source": [
    "system_times = Stats.get_total_times()\n",
    "\n",
    "sns.histplot(system_times,bins=7)\n",
    "plt.xlabel('Time in simulation');"
   ]
  },
  {
   "cell_type": "code",
   "execution_count": 29,
   "id": "premium-committee",
   "metadata": {},
   "outputs": [
    {
     "data": {
      "image/png": "[encoded data removed]",
      "text/plain": [
       "<Figure size 432x288 with 1 Axes>"
      ]
     },
     "metadata": {
      "needs_background": "light"
     },
     "output_type": "display_data"
    }
   ],
   "source": [
    "waiting_times = Stats.get_waiting_times()\n",
    "\n",
    "sns.histplot(waiting_times)\n",
    "plt.xlabel('Waiting times per entity');"
   ]
  },
  {
   "cell_type": "code",
   "execution_count": 30,
   "id": "possible-proceeding",
   "metadata": {
    "scrolled": true
   },
   "outputs": [
    {
     "data": {
      "image/png": "[encoded data removed]",
      "text/plain": [
       "<Figure size 432x288 with 1 Axes>"
      ]
     },
     "metadata": {
      "needs_background": "light"
     },
     "output_type": "display_data"
    }
   ],
   "source": [
    "resource_queue = Stats.queue_size_over_time(my_resource)\n",
    "sns.lineplot(y=resource_queue,x=range(0,len(resource_queue)));"
   ]
  },
  {
   "cell_type": "code",
   "execution_count": null,
   "id": "coordinate-slave",
   "metadata": {},
   "outputs": [],
   "source": []
  }
 ],
 "metadata": {
  "kernelspec": {
   "display_name": "Python 3",
   "language": "python",
   "name": "python3"
  },
  "language_info": {
   "codemirror_mode": {
    "name": "ipython",
    "version": 3
   },
   "file_extension": ".py",
   "mimetype": "text/x-python",
   "name": "python",
   "nbconvert_exporter": "python",
   "pygments_lexer": "ipython3",
   "version": "3.7.10"
  }
 },
 "nbformat": 4,
 "nbformat_minor": 5
}
